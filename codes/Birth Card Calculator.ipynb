{
 "cells": [
  {
   "cell_type": "markdown",
   "id": "01561ebe",
   "metadata": {},
   "source": [
    " # Numerology and Tarot go together like Peanut Butter and Jelly :) "
   ]
  },
  {
   "cell_type": "markdown",
   "id": "b599d092",
   "metadata": {},
   "source": [
    "## Life Path & Major Arcana Calculator"
   ]
  },
  {
   "cell_type": "markdown",
   "id": "c8dcce40",
   "metadata": {},
   "source": [
    "I found the original code to calculate the Life Path Number abandoned at ripl.\n",
    "\n",
    "__CHANGES__\n",
    "\n",
    "I added a dictionary to store the key/value pairs of each Major Arcana Card.\n",
    "I developed a simple formula to arrive at the Tarot Birth Card Number <p><b>Tarot Birth Card = (Life Path Number-1)+10</b></p>\n",
    "<p>I needed to create two more input prompts to call the <b>Life Path Card</b> and the <b>Birth Card</b> Names from the dictionary.</p>\n",
    "\n",
    "__How to calculate your Life Path Number and your Tarot Birth Card__\n",
    "\n",
    "The life Path number can be arrived at by adding all the digits of a birth date together and summing the result until you get a single digit.  __UNLESS__ your Life Path Number calculates to an 11, 22 or 33.  In that case, your number will remain as two digits and is considered a _Master Number_.\n",
    "\n",
    "Your Tarot Birth Card will always sum up to your single Life Path Number.\n",
    "For example if your Birth Card is 17 - The Star, your Life Path Number will be 8 - Strength\n",
    "\n",
    "__EXCEPTION to the rules__\n",
    "\n",
    "When calculating your __BIRTH CARD NUMBER__ and your result equals 19, you will have three special cards: __one Life Path card:__ 19 - The Sun, and __two birth cards:__ 1 - the Magician, 10 - The Wheel of Fortune."
   ]
  },
  {
   "cell_type": "markdown",
   "id": "aa2d7256",
   "metadata": {},
   "source": [
    "### The Code"
   ]
  },
  {
   "cell_type": "code",
   "execution_count": 7,
   "id": "b1fb9968",
   "metadata": {
    "scrolled": true
   },
   "outputs": [
    {
     "name": "stdout",
     "output_type": "stream",
     "text": [
      "Please use the format mm/dd/yyyy and enter your birthdate: 5/28/1949\n",
      "You have one of three Master Numbers: 11 \n",
      "  Your Life Path Card Number: 2\n",
      "Your Birth Card Number:  11\n"
     ]
    }
   ],
   "source": [
    "#!/usr/bin/python\n",
    "def sum_digits(number):\n",
    "    \"iterate through each digit and sum the result\"\n",
    "    return sum([int(digit) for digit in str(number)])\n",
    "\n",
    "\n",
    "def sum_until_len(number, length=1):\n",
    "    \"keep summing until the result is same as length\"\n",
    "    while len(str(number)) != length:\n",
    "        number = sum_digits(number)\n",
    "    return int(number)\n",
    "\n",
    "\n",
    "def life_path_number(day, month, year):\n",
    "    \"\"\"Life Path number from birth day\n",
    "    sum_digits to get single number from d,m,y\n",
    "    sum of those single numbers is the lpn\"\"\"\n",
    "    day_sum = sum_until_len(day)\n",
    "    month_sum = sum_until_len(month)\n",
    "    year_sum = sum_until_len(year)\n",
    "    lpn = day_sum + month_sum + year_sum\n",
    "    # check for master number\n",
    "    if master_number_check(lpn):\n",
    "        return sum_until_len(lpn), lpn\n",
    "    else:\n",
    "        return sum_until_len(lpn), None\n",
    "\n",
    "\n",
    "def master_number_check(number):\n",
    "    \"\"\"lets consider master numbers are just 11, 22, 33\"\"\"\n",
    "    master_numbers = [11, 22, 33]\n",
    "    if number in master_numbers:\n",
    "        return True\n",
    "    else:\n",
    "        return None\n",
    "    \n",
    "    \n",
    "if __name__ == '__main__':\n",
    "    month, day, year = input('Please use the format mm/dd/yyyy and enter your birthdate: ').split(\n",
    "        '/')\n",
    "\n",
    "    lpn, mn = life_path_number(month, day, year)\n",
    "    if mn:\n",
    "        print(f\"You have one of three Master Numbers: {mn} \\n  Your Life Path Card Number: {lpn}\")\n",
    "    else:\n",
    "        print(f\"Your Life Path Card Number: {lpn}\")\n",
    "\n",
    "    birth_card_number = (lpn - 1 + 10)\n",
    "\n",
    "    print(f'Your Birth Card Number: ', birth_card_number)\n",
    "    \n",
    "   \n",
    "\n",
    "    bc_dict = {\n",
    "        '1': '1-The Magician',\n",
    "        '2': '2-The High Priestess',\n",
    "        '3': '3-The Empress',\n",
    "        '4': '4-The Emperor',\n",
    "        '5': '5-The Hierophant',\n",
    "        '6': '6-The Lovers',\n",
    "        '7': '7-The Chariot',\n",
    "        '8': '8-Strength',\n",
    "        '9': '9-The Hermit',\n",
    "        '10': '10-Wheel of Fortune',\n",
    "        '11': '11-Justice',\n",
    "        '12': '12-The Hanged Man',\n",
    "        '13': '13-Death',\n",
    "        '14': '14-Temperance',\n",
    "        '15': '15-The Devil',\n",
    "        '16': '16-The Tower',\n",
    "        '17': '17-The Star',\n",
    "        '18': '18-The Moon',\n",
    "        '19': '19-The Sun',\n",
    "        '20': '20-Judgement',\n",
    "        '21': '21-The World'\n",
    "    }\n"
   ]
  },
  {
   "cell_type": "code",
   "execution_count": 2,
   "id": "e7f95083",
   "metadata": {},
   "outputs": [
    {
     "name": "stdout",
     "output_type": "stream",
     "text": [
      "Please enter your Life Path Card Number: 2\n",
      "Please enter your Birth Card Number: 11\n",
      "Your Life Path Card is:  2-The High Priestess  & Your Birth Card is:  11-Justice\n"
     ]
    }
   ],
   "source": [
    " life_card = input('Please enter your Life Path Card Number: ')\n",
    " birth_card = input('Please enter your Birth Card Number: ')\n",
    " print(f'Your Life Path Card is: ', bc_dict[life_card],\n",
    "      f' & Your Birth Card is: ', bc_dict[birth_card])"
   ]
  }
 ],
 "metadata": {
  "kernelspec": {
   "display_name": "Python 3 (ipykernel)",
   "language": "python",
   "name": "python3"
  },
  "language_info": {
   "codemirror_mode": {
    "name": "ipython",
    "version": 3
   },
   "file_extension": ".py",
   "mimetype": "text/x-python",
   "name": "python",
   "nbconvert_exporter": "python",
   "pygments_lexer": "ipython3",
   "version": "3.9.7"
  },
  "toc": {
   "base_numbering": 1,
   "nav_menu": {},
   "number_sections": true,
   "sideBar": true,
   "skip_h1_title": false,
   "title_cell": "Table of Contents",
   "title_sidebar": "Contents",
   "toc_cell": false,
   "toc_position": {},
   "toc_section_display": true,
   "toc_window_display": false
  },
  "varInspector": {
   "cols": {
    "lenName": 16,
    "lenType": 16,
    "lenVar": 40
   },
   "kernels_config": {
    "python": {
     "delete_cmd_postfix": "",
     "delete_cmd_prefix": "del ",
     "library": "var_list.py",
     "varRefreshCmd": "print(var_dic_list())"
    },
    "r": {
     "delete_cmd_postfix": ") ",
     "delete_cmd_prefix": "rm(",
     "library": "var_list.r",
     "varRefreshCmd": "cat(var_dic_list()) "
    }
   },
   "types_to_exclude": [
    "module",
    "function",
    "builtin_function_or_method",
    "instance",
    "_Feature"
   ],
   "window_display": false
  }
 },
 "nbformat": 4,
 "nbformat_minor": 5
}
